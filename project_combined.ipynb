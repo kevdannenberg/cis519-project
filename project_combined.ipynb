{
  "cells": [
    {
      "cell_type": "markdown",
      "metadata": {
        "id": "vZePpdMHbXsr"
      },
      "source": [
        "# Introduction\n",
        "\n",
        "Team Members: Kevin Dannenberg, Rohan Rashid, Shuke Zeng\n",
        "\n",
        "Project Mentor TA: Bharath Manthripragada"
      ]
    },
    {
      "cell_type": "code",
      "execution_count": null,
      "metadata": {
        "id": "cPKtbUWCbxyV"
      },
      "outputs": [],
      "source": [
        "import glob as glob\n",
        "import pandas as pd\n",
        "import gdown\n",
        "import numpy as np"
      ]
    },
    {
      "cell_type": "markdown",
      "metadata": {
        "id": "tXtEb8MebevV"
      },
      "source": [
        "# Part 1: Import and Clean the Data"
      ]
    },
    {
      "cell_type": "markdown",
      "metadata": {
        "id": "9yKTLJdFiHnb"
      },
      "source": [
        "## Existing Datasets\n",
        "\n",
        "First we import the existing datasets into DataFrames and clean them."
      ]
    },
    {
      "cell_type": "code",
      "execution_count": null,
      "metadata": {
        "colab": {
          "base_uri": "https://localhost:8080/"
        },
        "id": "Jtzp4YAQS-8u",
        "outputId": "b68f4eb0-17a1-42ac-90b7-5c0349626a3b"
      },
      "outputs": [
        {
          "name": "stderr",
          "output_type": "stream",
          "text": [
            "Downloading...\n",
            "From: https://drive.google.com/uc?id=1WIoLToMryBtgwOmf2AxiIbbDnQBAJ6uG\n",
            "To: /content/BugPrediction-unified-class.csv\n",
            "100%|██████████| 7.33M/7.33M [00:00<00:00, 29.0MB/s]\n",
            "Downloading...\n",
            "From: https://drive.google.com/uc?id=1D0DpBKygWeVlSdfWd8QvskwAmIaJVIu_\n",
            "To: /content/GitHub-unified-class.csv\n",
            "100%|██████████| 14.9M/14.9M [00:00<00:00, 29.9MB/s]\n",
            "Downloading...\n",
            "From: https://drive.google.com/uc?id=1PudehQYZwiq3gAnJajQDtfEWtDSiKBKw\n",
            "To: /content/PROMISE-unified-class.csv\n",
            "100%|██████████| 18.6M/18.6M [00:00<00:00, 36.5MB/s]\n",
            "Downloading...\n",
            "From: https://drive.google.com/uc?id=1gLhu5xUzKx0YMDK8FEdCgU_PAO1ZGJW5\n",
            "To: /content/Bugcatchers-unified-file.csv\n",
            "100%|██████████| 2.60M/2.60M [00:00<00:00, 31.6MB/s]\n",
            "Downloading...\n",
            "From: https://drive.google.com/uc?id=1xWPp0iC5QtXiojXXgV0KDKCOrHO6x9gk\n",
            "To: /content/Zimmerman-unified-file.csv\n",
            "100%|██████████| 45.8M/45.8M [00:00<00:00, 67.8MB/s]\n",
            "Downloading...\n",
            "From: https://drive.google.com/uc?id=1WcfZhncSF5ahXeiGa3KNWgjjjS1iPN4M\n",
            "To: /content/GitHub-unified-file.csv\n",
            "100%|██████████| 5.54M/5.54M [00:00<00:00, 52.5MB/s]\n"
          ]
        }
      ],
      "source": [
        "fname_class_bp = 'BugPrediction-unified-class.csv'\n",
        "gdown.download('https://drive.google.com/uc?id=1WIoLToMryBtgwOmf2AxiIbbDnQBAJ6uG', fname_class_bp, quiet=False)\n",
        "df_class_bp = pd.read_csv(fname_class_bp)\n",
        "df_class_bp = df_class_bp.dropna()\n",
        "\n",
        "fname_class_gh = 'GitHub-unified-class.csv'\n",
        "gdown.download('https://drive.google.com/uc?id=1D0DpBKygWeVlSdfWd8QvskwAmIaJVIu_', fname_class_gh, quiet=False)\n",
        "df_class_gh = pd.read_csv(fname_class_gh)\n",
        "df_class_gh = df_class_gh.dropna()\n",
        "\n",
        "fname_class_pr = 'PROMISE-unified-class.csv'\n",
        "gdown.download('https://drive.google.com/uc?id=1PudehQYZwiq3gAnJajQDtfEWtDSiKBKw', fname_class_pr, quiet=False)\n",
        "df_class_pr = pd.read_csv(fname_class_pr, low_memory=False)\n",
        "df_class_pr = df_class_pr.dropna()\n",
        "\n",
        "fname_file_bc = 'Bugcatchers-unified-file.csv'\n",
        "gdown.download('https://drive.google.com/uc?id=1gLhu5xUzKx0YMDK8FEdCgU_PAO1ZGJW5', fname_file_bc, quiet=False)\n",
        "df_file_bc = pd.read_csv(fname_file_bc)\n",
        "df_file_bc = df_file_bc.dropna()\n",
        "\n",
        "fname_file_ec = 'Zimmerman-unified-file.csv'\n",
        "gdown.download('https://drive.google.com/uc?id=1xWPp0iC5QtXiojXXgV0KDKCOrHO6x9gk', fname_file_ec, quiet=False)\n",
        "df_file_ec = pd.read_csv(fname_file_ec)\n",
        "df_file_ec = df_file_ec.dropna()\n",
        "\n",
        "fname_file_gh = 'GitHub-unified-file.csv'\n",
        "gdown.download('https://drive.google.com/uc?id=1WcfZhncSF5ahXeiGa3KNWgjjjS1iPN4M', fname_file_gh, quiet=False)\n",
        "df_file_gh = pd.read_csv(fname_file_gh)\n",
        "df_file_gh = df_file_gh.dropna()"
      ]
    },
    {
      "cell_type": "markdown",
      "metadata": {
        "id": "FlMM539J9Hy-"
      },
      "source": [
        "Then we make copies of the DataFrames with only rows that can be used in our unified datasets."
      ]
    },
    {
      "cell_type": "code",
      "execution_count": null,
      "metadata": {
        "id": "fxQnbaDBbNv9"
      },
      "outputs": [],
      "source": [
        "class_columns = ['ID', 'Type', 'Name', 'LongName', 'Parent', 'Component', 'Path', 'Line', 'Column', 'EndLine',\\\n",
        "                 'EndColumn', 'CC', 'CCL', 'CCO', 'CI', 'CLC', 'CLLC', 'LDC', 'LLDC', 'LCOM5', 'NL', 'NLE', 'WMC',\\\n",
        "                 'CBO', 'CBOI', 'NII', 'NOI', 'RFC', 'AD', 'CD', 'CLOC', 'DLOC', 'PDA', 'PUA', 'TCD', 'TCLOC',\\\n",
        "                 'DIT', 'NOA', 'NOC', 'NOD', 'NOP', 'LLOC', 'LOC', 'NA', 'NG', 'NLA', 'NLG', 'NLM', 'NLPA', 'NLPM',\\\n",
        "                 'NLS', 'NM', 'NOS', 'NPA', 'NPM', 'NS', 'TLLOC', 'TLOC', 'TNA', 'TNG', 'TNLA', 'TNLG', 'TNLM',\\\n",
        "                 'TNLPA', 'TNLPM', 'TNLS', 'TNM', 'TNOS', 'TNPA', 'TNPM', 'TNS', 'bug']\n",
        "df_class_bp_tomerge = df_class_bp[class_columns]\n",
        "df_class_gh_tomerge = df_class_gh[class_columns]\n",
        "df_class_pr_tomerge = df_class_pr[class_columns]\n",
        "\n",
        "file_columns = ['ID', 'Name', 'LongName', 'Parent', 'McCC', 'CLOC', 'PDA', 'PUA', 'LLOC', 'LOC', 'bug']\n",
        "df_file_bc_tomerge = df_file_bc[file_columns]\n",
        "df_file_ec_tomerge = df_file_ec[file_columns]\n",
        "df_file_gh_tomerge = df_file_gh[file_columns]"
      ]
    },
    {
      "cell_type": "markdown",
      "metadata": {
        "id": "ZclMCNujddCy"
      },
      "source": [
        "Next we update the IDs of the DataFrame copies so we know which dataset each row came from after merging. The IDs will be as follows:\n",
        "*   BugPrediction IDs will start with B\n",
        "*   Bugcatchers IDs will start with C\n",
        "*   Eclipse IDs will start with E\n",
        "*   GitHub IDs will start with G\n",
        "*   Promise IDs will start with P"
      ]
    },
    {
      "cell_type": "code",
      "execution_count": null,
      "metadata": {
        "colab": {
          "base_uri": "https://localhost:8080/"
        },
        "id": "-CkMioBrdoKS",
        "outputId": "7477c185-e87c-4c42-c271-0a5874e657e3"
      },
      "outputs": [
        {
          "name": "stderr",
          "output_type": "stream",
          "text": [
            "/usr/local/lib/python3.7/dist-packages/pandas/core/frame.py:3641: SettingWithCopyWarning: \n",
            "A value is trying to be set on a copy of a slice from a DataFrame.\n",
            "Try using .loc[row_indexer,col_indexer] = value instead\n",
            "\n",
            "See the caveats in the documentation: https://pandas.pydata.org/pandas-docs/stable/user_guide/indexing.html#returning-a-view-versus-a-copy\n",
            "  self[k1] = value[k2]\n"
          ]
        }
      ],
      "source": [
        "df_class_bp_tomerge[['ID', 'Parent', 'Component']] = df_class_bp_tomerge[['ID', 'Parent', 'Component']].replace('L', 'B', regex=True)\n",
        "df_class_gh_tomerge[['ID', 'Parent', 'Component']] = df_class_gh_tomerge[['ID', 'Parent', 'Component']].replace('L', 'G', regex=True)\n",
        "df_class_pr_tomerge[['ID', 'Parent', 'Component']] = df_class_pr_tomerge[['ID', 'Parent', 'Component']].replace('L', 'P', regex=True)\n",
        "df_file_bc_tomerge[['ID', 'Parent']] = df_file_bc_tomerge[['ID', 'Parent']].replace('L', 'C', regex=True)\n",
        "df_file_ec_tomerge[['ID', 'Parent']] = df_file_ec_tomerge[['ID', 'Parent']].replace('L', 'E', regex=True)\n",
        "df_file_gh_tomerge[['ID', 'Parent']] = df_file_gh_tomerge[['ID', 'Parent']].replace('L', 'G', regex=True)"
      ]
    },
    {
      "cell_type": "markdown",
      "metadata": {
        "id": "rAKjhDRJdt_Y"
      },
      "source": [
        "Finally we merge our existing datasets together. We will also make sure the 'bugs' column is an integer and not a float."
      ]
    },
    {
      "cell_type": "code",
      "execution_count": null,
      "metadata": {
        "id": "vNPvnWJZd05H"
      },
      "outputs": [],
      "source": [
        "# merge all class and all file datasets into unified datasets\n",
        "df_class_unified = pd.concat([df_class_bp_tomerge, df_class_gh_tomerge, df_class_pr_tomerge])\n",
        "df_file_unified = pd.concat([df_file_bc_tomerge, df_file_ec_tomerge, df_file_gh_tomerge])\n",
        "\n",
        "# update the 'bug' column to an integer\n",
        "df_class_unified['bug'] = df_class_unified['bug'].astype('int')\n",
        "df_file_unified['bug'] = df_file_unified['bug'].astype('int')"
      ]
    },
    {
      "cell_type": "markdown",
      "metadata": {
        "id": "af2ZxJH-iTxt"
      },
      "source": [
        "## New Dataset\n",
        "\n",
        "We now import the new dataset we are contributing. This dataset contains 131033 new rows from 23 different sources. We will repeat the same import and cleaning steps as above. This dataset uses different naming conventions for some of its features, so we update column names. The new dataset also does not contain all features in the existing unified dataset, so we will remove those columns before merging as well. Luckily, most of the dominant predictors exist in the new dataset."
      ]
    },
    {
      "cell_type": "code",
      "execution_count": null,
      "metadata": {
        "colab": {
          "base_uri": "https://localhost:8080/"
        },
        "id": "fsM5eoE4aU14",
        "outputId": "66114794-aa0a-425c-f3e1-d53a3c0d5677"
      },
      "outputs": [
        {
          "name": "stderr",
          "output_type": "stream",
          "text": [
            "Downloading...\n",
            "From: https://drive.google.com/uc?id=1YO-_H3vsZ-BcSaZ2epYUsJnrvMoPPn4h\n",
            "To: /content/ESEM-unified-class.csv\n",
            "100%|██████████| 33.4M/33.4M [00:00<00:00, 184MB/s]\n"
          ]
        }
      ],
      "source": [
        "# load and clean data\n",
        "fname_class_esem = 'ESEM-unified-class.csv'\n",
        "gdown.download('https://drive.google.com/uc?id=1YO-_H3vsZ-BcSaZ2epYUsJnrvMoPPn4h', fname_class_esem, quiet=False)\n",
        "df_class_esem = pd.read_csv(fname_class_esem)\n",
        "df_class_esem = df_class_esem.dropna()\n",
        "\n",
        "# rename and drop columns for merging with unified dataset\n",
        "df_class_esem_tomerge = df_class_esem.rename(columns={'numberOfMethods': 'NM', 'rfc': 'RFC', 'cbo': 'CBO', 'lcom2': 'LCOM5', 'ccml': 'CLOC', 'dit': 'DIT', 'nos': 'NOS'})\n",
        "df_class_esem_tomerge = df_class_esem_tomerge[['Parent', 'NM', 'RFC', 'CBO', 'LCOM5', 'CLOC', 'DIT', 'NOS', 'bug']]\n",
        "\n",
        "# concatenate df_class_unified with df_class_esem and put into new DataFrame\n",
        "df_class_unified_new = df_class_unified[['Parent', 'NM', 'RFC', 'CBO', 'LCOM5', 'CLOC', 'DIT', 'NOS', 'bug']]\n",
        "df_class_unified_new = pd.concat([df_class_unified_new, df_class_esem_tomerge])"
      ]
    },
    {
      "cell_type": "markdown",
      "metadata": {
        "id": "W1-EQTqFbqdF"
      },
      "source": [
        "# Part 2: Generate New Features"
      ]
    },
    {
      "cell_type": "markdown",
      "metadata": {
        "id": "zkdaDJkux_kF"
      },
      "source": [
        "## Average of Dominant Predictors\n",
        "Our hypothesis is that bugs begets more bugs. That is, a class/file is more likely to contain a bug if other classes/files also contain bugs. The paper identified the dominating features in bug prediction, they are:\n",
        "*   **Bug Prediction Class:** WMC, TNOS, cvsEntropy\n",
        "*   **GitHub Class:** WMC, NOA, TNOS\n",
        "*   **Promise Class:** LOC, DIT, TNM\n",
        "*   **Unified Class:** CLOC, TCLOC, CBO, NOI, DIT\n",
        "*   **Bugcatchers File:** code, PDA, SpeculativeGenerality\n",
        "*   **GitHub File:** McCC, Number of previous modifications, Number of developer commits\n",
        "*   **Eclipse File:** TypeLiteral, NSF_max, MLOC_sum\n",
        "*   **Unified File:** LOC, McCC\n",
        "\n",
        "Since we don't know what the dominant predictors will be with the new dataset yet, we will simply run a model on the base features and see how it performs.\n",
        "\n",
        "We will calculate the average of these features to see if it helps a newly trained model perform better. Then we will move the 'bug' column to the end so our exported CSV is cleaner."
      ]
    },
    {
      "cell_type": "code",
      "execution_count": null,
      "metadata": {
        "id": "esNOXc7KgKQM"
      },
      "outputs": [],
      "source": [
        "# add features for df_class_bp\n",
        "df_class_bp['AVGWMC'] = df_class_bp['WMC'].groupby(df_class_bp['Parent']).transform('mean')\n",
        "df_class_bp['AVGTNOS'] = df_class_bp['TNOS'].groupby(df_class_bp['Parent']).transform('mean')\n",
        "df_class_bp['AVGCvsEntropy'] = df_class_bp['CvsEntropy'].groupby(df_class_bp['Parent']).transform('mean')\n",
        "df_class_bp = df_class_bp[[col for col in df_class_bp.columns if col != 'bug'] + ['bug']]\n",
        "\n",
        "# add features for df_class_gh\n",
        "df_class_gh['AVGWMC'] = df_class_gh['WMC'].groupby(df_class_gh['Parent']).transform('mean')\n",
        "df_class_gh['AVGNOA'] = df_class_gh['NOA'].groupby(df_class_gh['Parent']).transform('mean')\n",
        "df_class_gh['AVGTNOS'] = df_class_gh['TNOS'].groupby(df_class_gh['Parent']).transform('mean')\n",
        "df_class_gh = df_class_gh[[col for col in df_class_gh.columns if col != 'bug'] + ['bug']]\n",
        "\n",
        "# add features for df_class_pr\n",
        "df_class_pr['AVGLOC'] = df_class_pr['LOC'].groupby(df_class_pr['Parent']).transform('mean')\n",
        "df_class_pr['AVGDIT'] = df_class_pr['DIT'].groupby(df_class_pr['Parent']).transform('mean')\n",
        "df_class_pr['AVGTNM'] = df_class_pr['TNM'].groupby(df_class_pr['Parent']).transform('mean')\n",
        "df_class_pr = df_class_pr[[col for col in df_class_pr.columns if col != 'bug'] + ['bug']]\n",
        "\n",
        "# add features for df_class_unified\n",
        "df_class_unified['AVGCLOC'] = df_class_unified['CLOC'].groupby(df_class_unified['Parent']).transform('mean')\n",
        "df_class_unified['AVGTCLOC'] = df_class_unified['TCLOC'].groupby(df_class_unified['Parent']).transform('mean')\n",
        "df_class_unified['AVGCBO'] = df_class_unified['CBO'].groupby(df_class_unified['Parent']).transform('mean')\n",
        "df_class_unified['AVGNOI'] = df_class_unified['NOI'].groupby(df_class_unified['Parent']).transform('mean')\n",
        "df_class_unified['AVGDIT'] = df_class_unified['DIT'].groupby(df_class_unified['Parent']).transform('mean')\n",
        "df_class_unified = df_class_unified[[col for col in df_class_unified.columns if col != 'bug'] + ['bug']]\n",
        "\n",
        "# add features for df_file_bc\n",
        "df_file_bc['AVGcode'] = df_file_bc['code'].groupby(df_file_bc['Parent']).transform('mean')\n",
        "df_file_bc['AVGPDA'] = df_file_bc['PDA'].groupby(df_file_bc['Parent']).transform('mean')\n",
        "df_file_bc['AVGSpeculativeGenerality'] = df_file_bc['SpeculativeGenerality'].groupby(df_file_bc['Parent']).transform('mean')\n",
        "df_file_bc = df_file_bc[[col for col in df_file_bc.columns if col != 'bug'] + ['bug']]\n",
        "\n",
        "# add features for df_file_gh\n",
        "df_file_gh['AVGMcCC'] = df_file_gh['McCC'].groupby(df_file_gh['Parent']).transform('mean')\n",
        "df_file_gh['AVGNumPrevMods'] = df_file_gh['Number of previous modifications'].groupby(df_file_gh['Parent']).transform('mean')\n",
        "df_file_gh['AVGNumDevCommits'] = df_file_gh['Number of developer commits'].groupby(df_file_gh['Parent']).transform('mean')\n",
        "df_file_gh = df_file_gh[[col for col in df_file_gh.columns if col != 'bug'] + ['bug']]\n",
        "\n",
        "# add features for df_file_ec\n",
        "df_file_ec['AVGTypeLiteral'] = df_file_ec['TypeLiteral'].groupby(df_file_ec['Parent']).transform('mean')\n",
        "df_file_ec['AVGNSF_max'] = df_file_ec['NSF_max'].groupby(df_file_ec['Parent']).transform('mean')\n",
        "df_file_ec['AVGMLOC_max'] = df_file_ec['MLOC_max'].groupby(df_file_ec['Parent']).transform('mean')\n",
        "df_file_ec = df_file_ec[[col for col in df_file_ec.columns if col != 'bug'] + ['bug']]\n",
        "\n",
        "# add features for df_file_unified\n",
        "df_file_unified['AVGLOC'] = df_file_unified['LOC'].groupby(df_file_unified['Parent']).transform('mean')\n",
        "df_file_unified['AVGMcCC'] = df_file_unified['McCC'].groupby(df_file_unified['Parent']).transform('mean')\n",
        "df_file_unified = df_file_unified[[col for col in df_file_unified.columns if col != 'bug'] + ['bug']]"
      ]
    },
    {
      "cell_type": "markdown",
      "metadata": {
        "id": "3emjDos4nvqQ"
      },
      "source": [
        "# Part 3: Modeling\n",
        "\n",
        "Here we run our data through machine learning models that try to predict whether there are bugs present in a code file. First we will take care of some necessary imports for this section."
      ]
    },
    {
      "cell_type": "code",
      "execution_count": null,
      "metadata": {
        "id": "e1qChaQs_PjN"
      },
      "outputs": [],
      "source": [
        "from sklearn.model_selection import train_test_split\n",
        "from sklearn.metrics import accuracy_score\n",
        "from sklearn.preprocessing import MinMaxScaler\n",
        "from sklearn.naive_bayes import GaussianNB\n",
        "from sklearn.naive_bayes import MultinomialNB\n",
        "from sklearn.linear_model import LogisticRegression\n",
        "from sklearn.linear_model import SGDClassifier\n",
        "from sklearn.tree import DecisionTreeClassifier\n",
        "from sklearn.ensemble import RandomForestClassifier\n",
        "from sklearn.ensemble import AdaBoostClassifier\n",
        "import xgboost as xgb"
      ]
    },
    {
      "cell_type": "markdown",
      "metadata": {
        "id": "GlEo34a6_E9-"
      },
      "source": [
        "## Prepare Data\n",
        "\n",
        "To prepare the dataset for the models, we will remove columns that we do not need and split the data into train and test subsets to train our models."
      ]
    },
    {
      "cell_type": "code",
      "execution_count": null,
      "metadata": {
        "id": "GBbZN74iCFpg"
      },
      "outputs": [],
      "source": [
        "# define columns to drop for the class and file datasets\n",
        "drop_class_columns = ['ID', 'Type', 'Name', 'LongName', 'Parent', 'Component', 'Path']\n",
        "drop_file_columns = ['ID', 'Name', 'LongName', 'Parent']\n",
        "\n",
        "# create test and train data for df_class_bp\n",
        "X_class_bp = df_class_bp.drop(columns=(drop_class_columns + ['bug', 'classname']))\n",
        "y_class_bp = df_class_bp['bug']\n",
        "X_train_class_bp, X_test_class_bp, y_train_class_bp, y_test_class_bp = train_test_split(X_class_bp, y_class_bp)\n",
        "\n",
        "# create test and train data for df_class_gh\n",
        "X_class_gh = df_class_gh.drop(columns=(drop_class_columns + ['bug']))\n",
        "y_class_gh = df_class_gh['bug']\n",
        "X_train_class_gh, X_test_class_gh, y_train_class_gh, y_test_class_gh = train_test_split(X_class_gh, y_class_gh)\n",
        "\n",
        "# create test and train data for df_class_pr\n",
        "X_class_pr = df_class_pr.drop(columns=(drop_class_columns + ['bug', 'name', 'version', 'name.1']))\n",
        "y_class_pr = df_class_pr['bug']\n",
        "X_train_class_pr, X_test_class_pr, y_train_class_pr, y_test_class_pr = train_test_split(X_class_pr, y_class_pr)\n",
        "\n",
        "# create test and train data for df_class_unified\n",
        "X_class_unified = df_class_unified.drop(columns=(drop_class_columns + ['bug']))\n",
        "y_class_unified = df_class_unified['bug']\n",
        "X_train_class_unified, X_test_class_unified, y_train_class_unified, y_test_class_unified = train_test_split(X_class_unified, y_class_unified)\n",
        "\n",
        "# create test and train data for df_file_bc\n",
        "X_file_bc = df_file_bc.drop(columns=(drop_file_columns + ['bug', 'filename', 'Package']))\n",
        "y_file_bc = df_file_bc['bug']\n",
        "X_train_file_bc, X_test_file_bc, y_train_file_bc, y_test_file_bc = train_test_split(X_file_bc, y_file_bc)\n",
        "\n",
        "# create test and train data for df_file_gh\n",
        "X_file_gh = df_file_gh.drop(columns=(drop_file_columns + ['bug', 'ID.1', 'Name.1', 'LongName.1', 'Parent.1']))\n",
        "y_file_gh = df_file_gh['bug']\n",
        "X_train_file_gh, X_test_file_gh, y_train_file_gh, y_test_file_gh = train_test_split(X_file_gh, y_file_gh)\n",
        "\n",
        "# create test and train data for df_file_ec\n",
        "X_file_ec = df_file_ec.drop(columns=(drop_file_columns + ['bug', 'plugin', 'filename']))\n",
        "y_file_ec = df_file_ec['bug']\n",
        "X_train_file_ec, X_test_file_ec, y_train_file_ec, y_test_file_ec = train_test_split(X_file_ec, y_file_ec)\n",
        "\n",
        "# create test and train data for df_file_unified\n",
        "X_file_unified = df_file_unified.drop(columns=(drop_file_columns + ['bug']))\n",
        "y_file_unified = df_file_unified['bug']\n",
        "X_train_file_unified, X_test_file_unified, y_train_file_unified, y_test_file_unified = train_test_split(X_file_unified, y_file_unified)\n",
        "\n",
        "# create test and train data for df_class_esem\n",
        "X_class_esem = df_class_esem.drop(columns=(['Parent', 'Class', 'bug']))\n",
        "y_class_esem = df_class_esem['bug']\n",
        "X_train_class_esem, X_test_class_esem, y_train_class_esem, y_test_class_esem = train_test_split(X_class_esem, y_class_esem)\n",
        "\n",
        "# create test and train data for df_class_unified_new\n",
        "X_class_unified_new = df_class_unified_new.drop(columns=['Parent', 'bug'])\n",
        "y_class_unified_new = df_class_unified_new['bug']\n",
        "X_train_unified_new, X_test_unified_new, y_train_unified_new, y_test_unified_new = train_test_split(X_class_unified_new, y_class_unified_new)"
      ]
    },
    {
      "cell_type": "code",
      "execution_count": null,
      "metadata": {
        "id": "sZA7oem1eqQS"
      },
      "outputs": [],
      "source": [
        "class_df = df_class_unified_new\n",
        "# class_df.columns\n",
        "file_df = df_file_unified\n",
        "# file_df.columns"
      ]
    },
    {
      "cell_type": "code",
      "execution_count": null,
      "metadata": {
        "id": "E57_Jhc2vmkd"
      },
      "outputs": [],
      "source": [
        "X = class_df.drop(columns=['bug'])\n",
        "y = class_df['bug']\n",
        "X_train, X_test, y_train, y_test = train_test_split(X, y, test_size=0.2, random_state=42)"
      ]
    },
    {
      "cell_type": "markdown",
      "metadata": {
        "id": "bt7cmWXSBPo3"
      },
      "source": [
        "## Gaussian Naive Bayes\n",
        "\n"
      ]
    },
    {
      "cell_type": "code",
      "execution_count": null,
      "metadata": {
        "colab": {
          "base_uri": "https://localhost:8080/"
        },
        "id": "LNbAYd77vRJf",
        "outputId": "293f6897-178a-449a-d5c6-c324b4b240d6"
      },
      "outputs": [
        {
          "name": "stdout",
          "output_type": "stream",
          "text": [
            "'BugPrediction Class': 0.8034398034398035,\n",
            "'GitHub Class': 0.8008524397413286,\n",
            "'PROMISE Class': 0.4305591342437516,\n",
            "'Unified Class': 0.6901301973960521,\n",
            "'Butcatcher File': 0.5667244367417678,\n",
            "'GitHub File': 0.7543124691966486,\n",
            "'Eclipse File': 0.6303347612248136,\n",
            "'Unified File': 0.7262253108997806,\n",
            "'ESEM Class': 0.926768216368021,\n",
            "'New Unified Class': 0.880840964556792,\n"
          ]
        }
      ],
      "source": [
        "gnb_scores = {}\n",
        "\n",
        "clf1 = GaussianNB()\n",
        "clf1.fit(X_train_class_bp, y_train_class_bp)\n",
        "y_pred_1 = clf1.predict(X_test_class_bp)\n",
        "score1 = accuracy_score(y_test_class_bp, y_pred_1)\n",
        "gnb_scores['BugPrediction Class'] = score1\n",
        "\n",
        "clf1 = GaussianNB()\n",
        "clf1.fit(X_train_class_gh, y_train_class_gh)\n",
        "y_pred_1 = clf1.predict(X_test_class_gh)\n",
        "score1 = accuracy_score(y_test_class_gh, y_pred_1)\n",
        "gnb_scores['GitHub Class'] = score1\n",
        "\n",
        "clf1 = GaussianNB()\n",
        "clf1.fit(X_train_class_pr, y_train_class_pr)\n",
        "y_pred_1 = clf1.predict(X_test_class_pr)\n",
        "score1 = accuracy_score(y_test_class_pr, y_pred_1)\n",
        "gnb_scores['PROMISE Class'] = score1\n",
        "\n",
        "clf1 = GaussianNB()\n",
        "clf1.fit(X_train_class_unified, y_train_class_unified)\n",
        "y_pred_1 = clf1.predict(X_test_class_unified)\n",
        "score1 = accuracy_score(y_test_class_unified, y_pred_1)\n",
        "gnb_scores['Unified Class'] = score1\n",
        "\n",
        "clf1 = GaussianNB()\n",
        "clf1.fit(X_train_file_bc, y_train_file_bc)\n",
        "y_pred_1 = clf1.predict(X_test_file_bc)\n",
        "score1 = accuracy_score(y_test_file_bc, y_pred_1)\n",
        "gnb_scores['Butcatcher File'] = score1\n",
        "\n",
        "clf1 = GaussianNB()\n",
        "clf1.fit(X_train_file_gh, y_train_file_gh)\n",
        "y_pred_1 = clf1.predict(X_test_file_gh)\n",
        "score1 = accuracy_score(y_test_file_gh, y_pred_1)\n",
        "gnb_scores['GitHub File'] = score1\n",
        "\n",
        "clf1 = GaussianNB()\n",
        "clf1.fit(X_train_file_ec, y_train_file_ec)\n",
        "y_pred_1 = clf1.predict(X_test_file_ec)\n",
        "score1 = accuracy_score(y_test_file_ec, y_pred_1)\n",
        "gnb_scores['Eclipse File'] = score1\n",
        "\n",
        "clf1 = GaussianNB()\n",
        "clf1.fit(X_train_file_unified, y_train_file_unified)\n",
        "y_pred_1 = clf1.predict(X_test_file_unified)\n",
        "score1 = accuracy_score(y_test_file_unified, y_pred_1)\n",
        "gnb_scores['Unified File'] = score1\n",
        "\n",
        "clf1 = GaussianNB()\n",
        "clf1.fit(X_train_class_esem, y_train_class_esem)\n",
        "y_pred_1 = clf1.predict(X_test_class_esem)\n",
        "score1 = accuracy_score(y_test_class_esem, y_pred_1)\n",
        "gnb_scores['ESEM Class'] = score1\n",
        "\n",
        "clf1 = GaussianNB()\n",
        "clf1.fit(X_train_unified_new, y_train_unified_new)\n",
        "y_pred_1 = clf1.predict(X_test_unified_new)\n",
        "score1 = accuracy_score(y_test_unified_new, y_pred_1)\n",
        "gnb_scores['New Unified Class'] = score1\n",
        "\n",
        "print(\"\\n\".join(\"{!r}: {!r},\".format(k, v) for k, v in gnb_scores.items()))"
      ]
    },
    {
      "cell_type": "markdown",
      "metadata": {
        "id": "j2GMneQEIB97"
      },
      "source": [
        "## Multinomial Naive Bayes"
      ]
    },
    {
      "cell_type": "code",
      "execution_count": null,
      "metadata": {
        "colab": {
          "base_uri": "https://localhost:8080/"
        },
        "id": "T1ivEMghdBxF",
        "outputId": "04884570-2045-4f53-eb6b-c24b79d094bd"
      },
      "outputs": [
        {
          "name": "stdout",
          "output_type": "stream",
          "text": [
            "'BugPrediction Class': 0.8034398034398035,\n",
            "'GitHub Class': 0.8008524397413286,\n",
            "'PROMISE Class': 0.4305591342437516,\n",
            "'Unified Class': 0.6901301973960521,\n",
            "'Butcatcher File': 0.5667244367417678,\n",
            "'GitHub File': 0.7543124691966486,\n",
            "'Eclipse File': 0.6303347612248136,\n",
            "'Unified File': 0.7262253108997806,\n",
            "'ESEM Class': 0.926768216368021,\n",
            "'New Unified Class': 0.880840964556792,\n"
          ]
        }
      ],
      "source": [
        "mnb_scores = {}\n",
        "\n",
        "# required scaling because negative values\n",
        "scaler = MinMaxScaler()\n",
        "X_train_class_bp = scaler.fit_transform(X_train_class_bp)\n",
        "X_test_class_bp = scaler.transform(X_test_class_bp)\n",
        "clf2 = MultinomialNB()\n",
        "clf2.fit(X_train_class_bp, y_train_class_bp)\n",
        "y_pred_2 = clf2.predict(X_test_class_bp)\n",
        "score2 = accuracy_score(y_test_class_bp, y_pred_2)\n",
        "mnb_scores['BugPrediction Class'] = score2\n",
        "\n",
        "clf2 = MultinomialNB()\n",
        "clf2.fit(X_train_class_gh, y_train_class_gh)\n",
        "y_pred_2 = clf2.predict(X_test_class_gh)\n",
        "score2 = accuracy_score(y_test_class_gh, y_pred_2)\n",
        "mnb_scores['GitHub Class'] = score2\n",
        "\n",
        "clf2 = MultinomialNB()\n",
        "clf2.fit(X_train_class_pr, y_train_class_pr)\n",
        "y_pred_2 = clf2.predict(X_test_class_pr)\n",
        "score2 = accuracy_score(y_test_class_pr, y_pred_2)\n",
        "mnb_scores['PROMISE Class'] = score2\n",
        "\n",
        "clf2 = MultinomialNB()\n",
        "clf2.fit(X_train_class_unified, y_train_class_unified)\n",
        "y_pred_2 = clf2.predict(X_test_class_unified)\n",
        "score2 = accuracy_score(y_test_class_unified, y_pred_2)\n",
        "mnb_scores['Unified Class'] = score2\n",
        "\n",
        "clf2 = MultinomialNB()\n",
        "clf2.fit(X_train_file_bc, y_train_file_bc)\n",
        "y_pred_2 = clf2.predict(X_test_file_bc)\n",
        "score2 = accuracy_score(y_test_file_bc, y_pred_2)\n",
        "mnb_scores['Butcatcher File'] = score2\n",
        "\n",
        "clf2 = MultinomialNB()\n",
        "clf2.fit(X_train_file_gh, y_train_file_gh)\n",
        "y_pred_2 = clf2.predict(X_test_file_gh)\n",
        "score2 = accuracy_score(y_test_file_gh, y_pred_2)\n",
        "mnb_scores['GitHub File'] = score2\n",
        "\n",
        "clf2 = MultinomialNB()\n",
        "clf2.fit(X_train_file_ec, y_train_file_ec)\n",
        "y_pred_2 = clf2.predict(X_test_file_ec)\n",
        "score2 = accuracy_score(y_test_file_ec, y_pred_2)\n",
        "mnb_scores['Eclipse File'] = score2\n",
        "\n",
        "clf2 = MultinomialNB()\n",
        "clf2.fit(X_train_file_unified, y_train_file_unified)\n",
        "y_pred_2 = clf2.predict(X_test_file_unified)\n",
        "score2 = accuracy_score(y_test_file_unified, y_pred_2)\n",
        "mnb_scores['Unified File'] = score2\n",
        "\n",
        "# required scaling because negative values\n",
        "scaler = MinMaxScaler()\n",
        "X_train_class_esem = scaler.fit_transform(X_train_class_esem)\n",
        "X_test_class_esem = scaler.transform(X_test_class_esem)\n",
        "clf2 = MultinomialNB()\n",
        "clf2.fit(X_train_class_esem, y_train_class_esem)\n",
        "y_pred_2 = clf2.predict(X_test_class_esem)\n",
        "score2 = accuracy_score(y_test_class_esem, y_pred_2)\n",
        "mnb_scores['ESEM Class'] = score2\n",
        "\n",
        "clf2 = MultinomialNB()\n",
        "clf2.fit(X_train_unified_new, y_train_unified_new)\n",
        "y_pred_2 = clf2.predict(X_test_unified_new)\n",
        "score2 = accuracy_score(y_test_unified_new, y_pred_2)\n",
        "mnb_scores['New Unified Class'] = score2\n",
        "\n",
        "print(\"\\n\".join(\"{!r}: {!r},\".format(k, v) for k, v in gnb_scores.items()))"
      ]
    },
    {
      "cell_type": "markdown",
      "metadata": {
        "id": "k6IvM_ptIEIf"
      },
      "source": [
        "## Logistic Regression"
      ]
    },
    {
      "cell_type": "code",
      "execution_count": null,
      "metadata": {
        "colab": {
          "base_uri": "https://localhost:8080/"
        },
        "id": "Jj_SHoTvmYCz",
        "outputId": "60a895b7-e6b0-4c8a-e532-c23a393d4bea"
      },
      "outputs": [
        {
          "name": "stderr",
          "output_type": "stream",
          "text": [
            "/usr/local/lib/python3.7/dist-packages/sklearn/linear_model/_logistic.py:818: ConvergenceWarning: lbfgs failed to converge (status=1):\n",
            "STOP: TOTAL NO. of ITERATIONS REACHED LIMIT.\n",
            "\n",
            "Increase the number of iterations (max_iter) or scale the data as shown in:\n",
            "    https://scikit-learn.org/stable/modules/preprocessing.html\n",
            "Please also refer to the documentation for alternative solver options:\n",
            "    https://scikit-learn.org/stable/modules/linear_model.html#logistic-regression\n",
            "  extra_warning_msg=_LOGISTIC_SOLVER_CONVERGENCE_MSG,\n",
            "/usr/local/lib/python3.7/dist-packages/sklearn/linear_model/_logistic.py:818: ConvergenceWarning: lbfgs failed to converge (status=1):\n",
            "STOP: TOTAL NO. of ITERATIONS REACHED LIMIT.\n",
            "\n",
            "Increase the number of iterations (max_iter) or scale the data as shown in:\n",
            "    https://scikit-learn.org/stable/modules/preprocessing.html\n",
            "Please also refer to the documentation for alternative solver options:\n",
            "    https://scikit-learn.org/stable/modules/linear_model.html#logistic-regression\n",
            "  extra_warning_msg=_LOGISTIC_SOLVER_CONVERGENCE_MSG,\n",
            "/usr/local/lib/python3.7/dist-packages/sklearn/linear_model/_logistic.py:818: ConvergenceWarning: lbfgs failed to converge (status=1):\n",
            "STOP: TOTAL NO. of ITERATIONS REACHED LIMIT.\n",
            "\n",
            "Increase the number of iterations (max_iter) or scale the data as shown in:\n",
            "    https://scikit-learn.org/stable/modules/preprocessing.html\n",
            "Please also refer to the documentation for alternative solver options:\n",
            "    https://scikit-learn.org/stable/modules/linear_model.html#logistic-regression\n",
            "  extra_warning_msg=_LOGISTIC_SOLVER_CONVERGENCE_MSG,\n",
            "/usr/local/lib/python3.7/dist-packages/sklearn/linear_model/_logistic.py:818: ConvergenceWarning: lbfgs failed to converge (status=1):\n",
            "STOP: TOTAL NO. of ITERATIONS REACHED LIMIT.\n",
            "\n",
            "Increase the number of iterations (max_iter) or scale the data as shown in:\n",
            "    https://scikit-learn.org/stable/modules/preprocessing.html\n",
            "Please also refer to the documentation for alternative solver options:\n",
            "    https://scikit-learn.org/stable/modules/linear_model.html#logistic-regression\n",
            "  extra_warning_msg=_LOGISTIC_SOLVER_CONVERGENCE_MSG,\n",
            "/usr/local/lib/python3.7/dist-packages/sklearn/linear_model/_logistic.py:818: ConvergenceWarning: lbfgs failed to converge (status=1):\n",
            "STOP: TOTAL NO. of ITERATIONS REACHED LIMIT.\n",
            "\n",
            "Increase the number of iterations (max_iter) or scale the data as shown in:\n",
            "    https://scikit-learn.org/stable/modules/preprocessing.html\n",
            "Please also refer to the documentation for alternative solver options:\n",
            "    https://scikit-learn.org/stable/modules/linear_model.html#logistic-regression\n",
            "  extra_warning_msg=_LOGISTIC_SOLVER_CONVERGENCE_MSG,\n",
            "/usr/local/lib/python3.7/dist-packages/sklearn/linear_model/_logistic.py:818: ConvergenceWarning: lbfgs failed to converge (status=1):\n",
            "STOP: TOTAL NO. of ITERATIONS REACHED LIMIT.\n",
            "\n",
            "Increase the number of iterations (max_iter) or scale the data as shown in:\n",
            "    https://scikit-learn.org/stable/modules/preprocessing.html\n",
            "Please also refer to the documentation for alternative solver options:\n",
            "    https://scikit-learn.org/stable/modules/linear_model.html#logistic-regression\n",
            "  extra_warning_msg=_LOGISTIC_SOLVER_CONVERGENCE_MSG,\n",
            "/usr/local/lib/python3.7/dist-packages/sklearn/linear_model/_logistic.py:818: ConvergenceWarning: lbfgs failed to converge (status=1):\n",
            "STOP: TOTAL NO. of ITERATIONS REACHED LIMIT.\n",
            "\n",
            "Increase the number of iterations (max_iter) or scale the data as shown in:\n",
            "    https://scikit-learn.org/stable/modules/preprocessing.html\n",
            "Please also refer to the documentation for alternative solver options:\n",
            "    https://scikit-learn.org/stable/modules/linear_model.html#logistic-regression\n",
            "  extra_warning_msg=_LOGISTIC_SOLVER_CONVERGENCE_MSG,\n",
            "/usr/local/lib/python3.7/dist-packages/sklearn/linear_model/_logistic.py:818: ConvergenceWarning: lbfgs failed to converge (status=1):\n",
            "STOP: TOTAL NO. of ITERATIONS REACHED LIMIT.\n",
            "\n",
            "Increase the number of iterations (max_iter) or scale the data as shown in:\n",
            "    https://scikit-learn.org/stable/modules/preprocessing.html\n",
            "Please also refer to the documentation for alternative solver options:\n",
            "    https://scikit-learn.org/stable/modules/linear_model.html#logistic-regression\n",
            "  extra_warning_msg=_LOGISTIC_SOLVER_CONVERGENCE_MSG,\n",
            "/usr/local/lib/python3.7/dist-packages/sklearn/linear_model/_logistic.py:818: ConvergenceWarning: lbfgs failed to converge (status=1):\n",
            "STOP: TOTAL NO. of ITERATIONS REACHED LIMIT.\n",
            "\n",
            "Increase the number of iterations (max_iter) or scale the data as shown in:\n",
            "    https://scikit-learn.org/stable/modules/preprocessing.html\n",
            "Please also refer to the documentation for alternative solver options:\n",
            "    https://scikit-learn.org/stable/modules/linear_model.html#logistic-regression\n",
            "  extra_warning_msg=_LOGISTIC_SOLVER_CONVERGENCE_MSG,\n"
          ]
        },
        {
          "name": "stdout",
          "output_type": "stream",
          "text": [
            "'BugPrediction Class': 0.8493038493038493,\n",
            "'GitHub Class': 0.9104938271604939,\n",
            "'PROMISE Class': 0.6397835609379026,\n",
            "'Unified Class': 0.8119277614447711,\n",
            "'Butcatcher File': 0.7209705372616985,\n",
            "'GitHub File': 0.8674223755544603,\n",
            "'Eclipse File': 0.6931619863557036,\n",
            "'Unified File': 0.7553950256035113,\n",
            "'ESEM Class': 0.9807381177691626,\n",
            "'New Unified Class': 0.9096343729709155,\n"
          ]
        },
        {
          "name": "stderr",
          "output_type": "stream",
          "text": [
            "/usr/local/lib/python3.7/dist-packages/sklearn/linear_model/_logistic.py:818: ConvergenceWarning: lbfgs failed to converge (status=1):\n",
            "STOP: TOTAL NO. of ITERATIONS REACHED LIMIT.\n",
            "\n",
            "Increase the number of iterations (max_iter) or scale the data as shown in:\n",
            "    https://scikit-learn.org/stable/modules/preprocessing.html\n",
            "Please also refer to the documentation for alternative solver options:\n",
            "    https://scikit-learn.org/stable/modules/linear_model.html#logistic-regression\n",
            "  extra_warning_msg=_LOGISTIC_SOLVER_CONVERGENCE_MSG,\n"
          ]
        }
      ],
      "source": [
        "lr_scores = {}\n",
        "\n",
        "clf3 = LogisticRegression(random_state = 42)\n",
        "clf3.fit(X_train_class_bp, y_train_class_bp)\n",
        "y_pred_3 = clf3.predict(X_test_class_bp)\n",
        "score3 = accuracy_score(y_test_class_bp, y_pred_3)\n",
        "lr_scores['BugPrediction Class'] = score3\n",
        "\n",
        "clf3 = LogisticRegression(random_state = 42)\n",
        "clf3.fit(X_train_class_gh, y_train_class_gh)\n",
        "y_pred_3 = clf3.predict(X_test_class_gh)\n",
        "score3 = accuracy_score(y_test_class_gh, y_pred_3)\n",
        "lr_scores['GitHub Class'] = score3\n",
        "\n",
        "clf3 = LogisticRegression(random_state = 42)\n",
        "clf3.fit(X_train_class_pr, y_train_class_pr)\n",
        "y_pred_3 = clf3.predict(X_test_class_pr)\n",
        "score3 = accuracy_score(y_test_class_pr, y_pred_3)\n",
        "lr_scores['PROMISE Class'] = score3\n",
        "\n",
        "clf3 = LogisticRegression(random_state = 42)\n",
        "clf3.fit(X_train_class_unified, y_train_class_unified)\n",
        "y_pred_3 = clf3.predict(X_test_class_unified)\n",
        "score3 = accuracy_score(y_test_class_unified, y_pred_3)\n",
        "lr_scores['Unified Class'] = score3\n",
        "\n",
        "clf3 = LogisticRegression(random_state = 42)\n",
        "clf3.fit(X_train_file_bc, y_train_file_bc)\n",
        "y_pred_3 = clf3.predict(X_test_file_bc)\n",
        "score3 = accuracy_score(y_test_file_bc, y_pred_3)\n",
        "lr_scores['Butcatcher File'] = score3\n",
        "\n",
        "clf3 = LogisticRegression(random_state = 42)\n",
        "clf3.fit(X_train_file_gh, y_train_file_gh)\n",
        "y_pred_3 = clf3.predict(X_test_file_gh)\n",
        "score3 = accuracy_score(y_test_file_gh, y_pred_3)\n",
        "lr_scores['GitHub File'] = score3\n",
        "\n",
        "clf3 = LogisticRegression(random_state = 42)\n",
        "clf3.fit(X_train_file_ec, y_train_file_ec)\n",
        "y_pred_3 = clf3.predict(X_test_file_ec)\n",
        "score3 = accuracy_score(y_test_file_ec, y_pred_3)\n",
        "lr_scores['Eclipse File'] = score3\n",
        "\n",
        "clf3 = LogisticRegression(random_state = 42)\n",
        "clf3.fit(X_train_file_unified, y_train_file_unified)\n",
        "y_pred_3 = clf3.predict(X_test_file_unified)\n",
        "score3 = accuracy_score(y_test_file_unified, y_pred_3)\n",
        "lr_scores['Unified File'] = score3\n",
        "\n",
        "clf3 = LogisticRegression(random_state = 42)\n",
        "clf3.fit(X_train_class_esem, y_train_class_esem)\n",
        "y_pred_3 = clf3.predict(X_test_class_esem)\n",
        "score3 = accuracy_score(y_test_class_esem, y_pred_3)\n",
        "lr_scores['ESEM Class'] = score3\n",
        "\n",
        "clf3 = LogisticRegression(random_state = 42)\n",
        "clf3.fit(X_train_unified_new, y_train_unified_new)\n",
        "y_pred_3 = clf3.predict(X_test_unified_new)\n",
        "score3 = accuracy_score(y_test_unified_new, y_pred_3)\n",
        "lr_scores['New Unified Class'] = score3\n",
        "\n",
        "print(\"\\n\".join(\"{!r}: {!r},\".format(k, v) for k, v in lr_scores.items()))"
      ]
    },
    {
      "cell_type": "markdown",
      "metadata": {
        "id": "8twotUD5IGly"
      },
      "source": [
        "## Stochastic Gradient Descent"
      ]
    },
    {
      "cell_type": "code",
      "execution_count": null,
      "metadata": {
        "colab": {
          "base_uri": "https://localhost:8080/"
        },
        "id": "V2lmWrMnsmE3",
        "outputId": "88454a3b-6dc9-463f-8b73-fbd2cbad9cb7"
      },
      "outputs": [
        {
          "name": "stdout",
          "output_type": "stream",
          "text": [
            "'BugPrediction Class': 0.8574938574938575,\n",
            "'GitHub Class': 0.9163727219282775,\n",
            "'PROMISE Class': 0.3104869878897191,\n",
            "'Unified Class': 0.7830323393532129,\n",
            "'Butcatcher File': 0.49220103986135183,\n",
            "'GitHub File': 0.8368654509610646,\n",
            "'Eclipse File': 0.6909408218308742,\n",
            "'Unified File': 0.7283284564740308,\n",
            "'ESEM Class': 0.9799139167862266,\n",
            "'New Unified Class': 0.9153214069811701,\n"
          ]
        }
      ],
      "source": [
        "sgd_scores = {}\n",
        "\n",
        "clf4 = SGDClassifier(random_state = 42, max_iter = 2000, tol=1e-3)\n",
        "clf4.fit(X_train_class_bp, y_train_class_bp)\n",
        "y_pred_4 = clf4.predict(X_test_class_bp)\n",
        "score4 = accuracy_score(y_test_class_bp, y_pred_4)\n",
        "sgd_scores['BugPrediction Class'] = score4\n",
        "\n",
        "clf4 = SGDClassifier(random_state = 42, max_iter = 2000, tol=1e-3)\n",
        "clf4.fit(X_train_class_gh, y_train_class_gh)\n",
        "y_pred_4 = clf4.predict(X_test_class_gh)\n",
        "score4 = accuracy_score(y_test_class_gh, y_pred_4)\n",
        "sgd_scores['GitHub Class'] = score4\n",
        "\n",
        "clf4 = SGDClassifier(random_state = 42, max_iter = 2000, tol=1e-3)\n",
        "clf4.fit(X_train_class_pr, y_train_class_pr)\n",
        "y_pred_4 = clf4.predict(X_test_class_pr)\n",
        "score4 = accuracy_score(y_test_class_pr, y_pred_4)\n",
        "sgd_scores['PROMISE Class'] = score4\n",
        "\n",
        "clf4 = SGDClassifier(random_state = 42, max_iter = 2000, tol=1e-3)\n",
        "clf4.fit(X_train_class_unified, y_train_class_unified)\n",
        "y_pred_4 = clf4.predict(X_test_class_unified)\n",
        "score4 = accuracy_score(y_test_class_unified, y_pred_4)\n",
        "sgd_scores['Unified Class'] = score4\n",
        "\n",
        "clf4 = SGDClassifier(random_state = 42, max_iter = 2000, tol=1e-3)\n",
        "clf4.fit(X_train_file_bc, y_train_file_bc)\n",
        "y_pred_4 = clf4.predict(X_test_file_bc)\n",
        "score4 = accuracy_score(y_test_file_bc, y_pred_4)\n",
        "sgd_scores['Butcatcher File'] = score4\n",
        "\n",
        "clf4 = SGDClassifier(random_state = 42, max_iter = 2000, tol=1e-3)\n",
        "clf4.fit(X_train_file_gh, y_train_file_gh)\n",
        "y_pred_4 = clf4.predict(X_test_file_gh)\n",
        "score4 = accuracy_score(y_test_file_gh, y_pred_4)\n",
        "sgd_scores['GitHub File'] = score4\n",
        "\n",
        "clf4 = SGDClassifier(random_state = 42, max_iter = 2000, tol=1e-3)\n",
        "clf4.fit(X_train_file_ec, y_train_file_ec)\n",
        "y_pred_4 = clf4.predict(X_test_file_ec)\n",
        "score4 = accuracy_score(y_test_file_ec, y_pred_4)\n",
        "sgd_scores['Eclipse File'] = score4\n",
        "\n",
        "clf4 = SGDClassifier(random_state = 42, max_iter = 2000, tol=1e-3)\n",
        "clf4.fit(X_train_file_unified, y_train_file_unified)\n",
        "y_pred_4 = clf4.predict(X_test_file_unified)\n",
        "score4 = accuracy_score(y_test_file_unified, y_pred_4)\n",
        "sgd_scores['Unified File'] = score4\n",
        "\n",
        "clf4 = SGDClassifier(random_state = 42, max_iter = 2000, tol=1e-3)\n",
        "clf4.fit(X_train_class_esem, y_train_class_esem)\n",
        "y_pred_4 = clf4.predict(X_test_class_esem)\n",
        "score4 = accuracy_score(y_test_class_esem, y_pred_4)\n",
        "sgd_scores['ESEM Class'] = score4\n",
        "\n",
        "clf4 = SGDClassifier(random_state = 42, max_iter = 2000, tol=1e-3)\n",
        "clf4.fit(X_train_unified_new, y_train_unified_new)\n",
        "y_pred_4 = clf4.predict(X_test_unified_new)\n",
        "score4 = accuracy_score(y_test_unified_new, y_pred_4)\n",
        "sgd_scores['New Unified Class'] = score4\n",
        "\n",
        "print(\"\\n\".join(\"{!r}: {!r},\".format(k, v) for k, v in sgd_scores.items()))"
      ]
    },
    {
      "cell_type": "markdown",
      "metadata": {
        "id": "qD31r0LwIMk6"
      },
      "source": [
        "## Decision Tree"
      ]
    },
    {
      "cell_type": "code",
      "execution_count": null,
      "metadata": {
        "colab": {
          "base_uri": "https://localhost:8080/"
        },
        "id": "ixSD3Vme2ThM",
        "outputId": "ba37fddd-7055-46ca-e301-2163711a38f2"
      },
      "outputs": [
        {
          "name": "stdout",
          "output_type": "stream",
          "text": [
            "'BugPrediction Class': 0.8607698607698607,\n",
            "'GitHub Class': 0.9168136390358612,\n",
            "'PROMISE Class': 0.6459675341406854,\n",
            "'Unified Class': 0.8172196556068878,\n",
            "'Butcatcher File': 0.7521663778162911,\n",
            "'GitHub File': 0.8718580581567275,\n",
            "'Eclipse File': 0.6987148976677773,\n",
            "'Unified File': 0.7628017556693489,\n",
            "'ESEM Class': 0.9808907475808175,\n",
            "'New Unified Class': 0.9221951055683676,\n"
          ]
        }
      ],
      "source": [
        "dt_scores = {}\n",
        "\n",
        "clf5 = DecisionTreeClassifier(random_state=0, max_depth=2)\n",
        "clf5.fit(X_train_class_bp, y_train_class_bp)\n",
        "y_pred_5 = clf5.predict(X_test_class_bp)\n",
        "score5 = accuracy_score(y_test_class_bp, y_pred_5)\n",
        "dt_scores['BugPrediction Class'] = score5\n",
        "\n",
        "clf5 = DecisionTreeClassifier(random_state=0, max_depth=2)\n",
        "clf5.fit(X_train_class_gh, y_train_class_gh)\n",
        "y_pred_5 = clf5.predict(X_test_class_gh)\n",
        "score5 = accuracy_score(y_test_class_gh, y_pred_5)\n",
        "dt_scores['GitHub Class'] = score5\n",
        "\n",
        "clf5 = DecisionTreeClassifier(random_state=0, max_depth=2)\n",
        "clf5.fit(X_train_class_pr, y_train_class_pr)\n",
        "y_pred_5 = clf5.predict(X_test_class_pr)\n",
        "score5 = accuracy_score(y_test_class_pr, y_pred_5)\n",
        "dt_scores['PROMISE Class'] = score5\n",
        "\n",
        "clf5 = DecisionTreeClassifier(random_state=0, max_depth=2)\n",
        "clf5.fit(X_train_class_unified, y_train_class_unified)\n",
        "y_pred_5 = clf5.predict(X_test_class_unified)\n",
        "score5 = accuracy_score(y_test_class_unified, y_pred_5)\n",
        "dt_scores['Unified Class'] = score5\n",
        "\n",
        "clf5 = DecisionTreeClassifier(random_state=0, max_depth=2)\n",
        "clf5.fit(X_train_file_bc, y_train_file_bc)\n",
        "y_pred_5 = clf5.predict(X_test_file_bc)\n",
        "score5 = accuracy_score(y_test_file_bc, y_pred_5)\n",
        "dt_scores['Butcatcher File'] = score5\n",
        "\n",
        "clf5 = DecisionTreeClassifier(random_state=0, max_depth=2)\n",
        "clf5.fit(X_train_file_gh, y_train_file_gh)\n",
        "y_pred_5 = clf5.predict(X_test_file_gh)\n",
        "score5 = accuracy_score(y_test_file_gh, y_pred_5)\n",
        "dt_scores['GitHub File'] = score5\n",
        "\n",
        "clf5 = DecisionTreeClassifier(random_state=0, max_depth=2)\n",
        "clf5.fit(X_train_file_ec, y_train_file_ec)\n",
        "y_pred_5 = clf5.predict(X_test_file_ec)\n",
        "score5 = accuracy_score(y_test_file_ec, y_pred_5)\n",
        "dt_scores['Eclipse File'] = score5\n",
        "\n",
        "clf5 = DecisionTreeClassifier(random_state=0, max_depth=2)\n",
        "clf5.fit(X_train_file_unified, y_train_file_unified)\n",
        "y_pred_5 = clf5.predict(X_test_file_unified)\n",
        "score5 = accuracy_score(y_test_file_unified, y_pred_5)\n",
        "dt_scores['Unified File'] = score5\n",
        "\n",
        "clf5 = DecisionTreeClassifier(random_state=0, max_depth=2)\n",
        "clf5.fit(X_train_class_esem, y_train_class_esem)\n",
        "y_pred_5 = clf5.predict(X_test_class_esem)\n",
        "score5 = accuracy_score(y_test_class_esem, y_pred_5)\n",
        "dt_scores['ESEM Class'] = score5\n",
        "\n",
        "clf5 = DecisionTreeClassifier(random_state=0, max_depth=2)\n",
        "clf5.fit(X_train_unified_new, y_train_unified_new)\n",
        "y_pred_5 = clf5.predict(X_test_unified_new)\n",
        "score5 = accuracy_score(y_test_unified_new, y_pred_5)\n",
        "dt_scores['New Unified Class'] = score5\n",
        "\n",
        "print(\"\\n\".join(\"{!r}: {!r},\".format(k, v) for k, v in dt_scores.items()))"
      ]
    },
    {
      "cell_type": "markdown",
      "metadata": {
        "id": "kfsMqM7YIRvA"
      },
      "source": [
        "## Random Forest"
      ]
    },
    {
      "cell_type": "code",
      "execution_count": null,
      "metadata": {
        "colab": {
          "base_uri": "https://localhost:8080/"
        },
        "id": "3Xbxll_oHPo8",
        "outputId": "43d1e282-7da9-4794-ece6-38c19f7dca4b"
      },
      "outputs": [
        {
          "name": "stdout",
          "output_type": "stream",
          "text": [
            "'BugPrediction Class': 0.8542178542178542,\n",
            "'GitHub Class': 0.9279835390946503,\n",
            "'PROMISE Class': 0.668642102550889,\n",
            "'Unified Class': 0.8362872742545149,\n",
            "'Butcatcher File': 0.8318890814558059,\n",
            "'GitHub File': 0.8718580581567275,\n",
            "'Eclipse File': 0.6652387751864192,\n",
            "'Unified File': 0.763807607900512,\n",
            "'ESEM Class': 0.9814096889404439,\n",
            "'New Unified Class': 0.9162617826836531,\n"
          ]
        }
      ],
      "source": [
        "rf_scores = {}\n",
        "\n",
        "clf6 = RandomForestClassifier(random_state = 42)\n",
        "clf6.fit(X_train_class_bp, y_train_class_bp)\n",
        "y_pred_6 = clf6.predict(X_test_class_bp)\n",
        "score6 = accuracy_score(y_test_class_bp, y_pred_6)\n",
        "rf_scores['BugPrediction Class'] = score6\n",
        "\n",
        "clf6 = RandomForestClassifier(random_state = 42)\n",
        "clf6.fit(X_train_class_gh, y_train_class_gh)\n",
        "y_pred_6 = clf6.predict(X_test_class_gh)\n",
        "score6 = accuracy_score(y_test_class_gh, y_pred_6)\n",
        "rf_scores['GitHub Class'] = score6\n",
        "\n",
        "clf6 = RandomForestClassifier(random_state = 42)\n",
        "clf6.fit(X_train_class_pr, y_train_class_pr)\n",
        "y_pred_6 = clf6.predict(X_test_class_pr)\n",
        "score6 = accuracy_score(y_test_class_pr, y_pred_6)\n",
        "rf_scores['PROMISE Class'] = score6\n",
        "\n",
        "clf6 = RandomForestClassifier(random_state = 42)\n",
        "clf6.fit(X_train_class_unified, y_train_class_unified)\n",
        "y_pred_6 = clf6.predict(X_test_class_unified)\n",
        "score6 = accuracy_score(y_test_class_unified, y_pred_6)\n",
        "rf_scores['Unified Class'] = score6\n",
        "\n",
        "clf6 = RandomForestClassifier(random_state = 42)\n",
        "clf6.fit(X_train_file_bc, y_train_file_bc)\n",
        "y_pred_6 = clf6.predict(X_test_file_bc)\n",
        "score6 = accuracy_score(y_test_file_bc, y_pred_6)\n",
        "rf_scores['Butcatcher File'] = score6\n",
        "\n",
        "clf6 = RandomForestClassifier(random_state = 42)\n",
        "clf5.fit(X_train_file_gh, y_train_file_gh)\n",
        "y_pred_5 = clf5.predict(X_test_file_gh)\n",
        "score5 = accuracy_score(y_test_file_gh, y_pred_5)\n",
        "rf_scores['GitHub File'] = score5\n",
        "\n",
        "clf6 = RandomForestClassifier(random_state = 42)\n",
        "clf6.fit(X_train_file_ec, y_train_file_ec)\n",
        "y_pred_6 = clf6.predict(X_test_file_ec)\n",
        "score6 = accuracy_score(y_test_file_ec, y_pred_6)\n",
        "rf_scores['Eclipse File'] = score6\n",
        "\n",
        "clf6 = RandomForestClassifier(random_state = 42)\n",
        "clf6.fit(X_train_file_unified, y_train_file_unified)\n",
        "y_pred_6 = clf6.predict(X_test_file_unified)\n",
        "score6 = accuracy_score(y_test_file_unified, y_pred_6)\n",
        "rf_scores['Unified File'] = score6\n",
        "\n",
        "clf6 = RandomForestClassifier(random_state = 42)\n",
        "clf6.fit(X_train_class_esem, y_train_class_esem)\n",
        "y_pred_6 = clf6.predict(X_test_class_esem)\n",
        "score6 = accuracy_score(y_test_class_esem, y_pred_6)\n",
        "rf_scores['ESEM Class'] = score6\n",
        "\n",
        "clf6 = RandomForestClassifier(random_state = 42)\n",
        "clf6.fit(X_train_unified_new, y_train_unified_new)\n",
        "y_pred_6 = clf6.predict(X_test_unified_new)\n",
        "score6 = accuracy_score(y_test_unified_new, y_pred_6)\n",
        "rf_scores['New Unified Class'] = score6\n",
        "\n",
        "print(\"\\n\".join(\"{!r}: {!r},\".format(k, v) for k, v in rf_scores.items()))"
      ]
    },
    {
      "cell_type": "markdown",
      "metadata": {
        "id": "zUd_MIW8WsGg"
      },
      "source": [
        "## AdaBoost"
      ]
    },
    {
      "cell_type": "code",
      "execution_count": null,
      "metadata": {
        "colab": {
          "base_uri": "https://localhost:8080/"
        },
        "id": "7P9rcMvtZKCR",
        "outputId": "849ad8fb-e0a9-44e5-b1d3-14b39b8ed2fd"
      },
      "outputs": [
        {
          "name": "stdout",
          "output_type": "stream",
          "text": [
            "'BugPrediction Class': 0.8517608517608518,\n",
            "'GitHub Class': 0.9168136390358612,\n",
            "'PROMISE Class': 0.6410718886884823,\n",
            "'Unified Class': 0.8170516589668206,\n",
            "'Butcatcher File': 0.7244367417677643,\n",
            "'GitHub File': 0.8716116313454904,\n",
            "'Eclipse File': 0.6987148976677773,\n",
            "'Unified File': 0.7624359912216533,\n",
            "'ESEM Class': 0.9798833908238958,\n",
            "'New Unified Class': 0.9221055459776549,\n"
          ]
        }
      ],
      "source": [
        "ada_scores = {}\n",
        "\n",
        "clf6 = AdaBoostClassifier(n_estimators=50, learning_rate=1, random_state=0)\n",
        "clf6.fit(X_train_class_bp, y_train_class_bp)\n",
        "y_pred_6 = clf6.predict(X_test_class_bp)\n",
        "score6 = accuracy_score(y_test_class_bp, y_pred_6)\n",
        "ada_scores['BugPrediction Class'] = score6\n",
        "\n",
        "clf6.fit(X_train_class_gh, y_train_class_gh)\n",
        "y_pred_6 = clf6.predict(X_test_class_gh)\n",
        "score6 = accuracy_score(y_test_class_gh, y_pred_6)\n",
        "ada_scores['GitHub Class'] = score6\n",
        "\n",
        "clf6.fit(X_train_class_pr, y_train_class_pr)\n",
        "y_pred_6 = clf6.predict(X_test_class_pr)\n",
        "score6 = accuracy_score(y_test_class_pr, y_pred_6)\n",
        "ada_scores['PROMISE Class'] = score6\n",
        "\n",
        "clf6.fit(X_train_class_unified, y_train_class_unified)\n",
        "y_pred_6 = clf6.predict(X_test_class_unified)\n",
        "score6 = accuracy_score(y_test_class_unified, y_pred_6)\n",
        "ada_scores['Unified Class'] = score6\n",
        "\n",
        "clf6.fit(X_train_file_bc, y_train_file_bc)\n",
        "y_pred_6 = clf6.predict(X_test_file_bc)\n",
        "score6 = accuracy_score(y_test_file_bc, y_pred_6)\n",
        "ada_scores['Butcatcher File'] = score6\n",
        "\n",
        "clf6.fit(X_train_file_gh, y_train_file_gh)\n",
        "y_pred_6 = clf6.predict(X_test_file_gh)\n",
        "score6 = accuracy_score(y_test_file_gh, y_pred_6)\n",
        "ada_scores['GitHub File'] = score6\n",
        "\n",
        "clf6.fit(X_train_file_ec, y_train_file_ec)\n",
        "y_pred_6 = clf6.predict(X_test_file_ec)\n",
        "score6 = accuracy_score(y_test_file_ec, y_pred_6)\n",
        "ada_scores['Eclipse File'] = score6\n",
        "\n",
        "clf6.fit(X_train_file_unified, y_train_file_unified)\n",
        "y_pred_6 = clf6.predict(X_test_file_unified)\n",
        "score6 = accuracy_score(y_test_file_unified, y_pred_6)\n",
        "ada_scores['Unified File'] = score6\n",
        "\n",
        "clf6.fit(X_train_class_esem, y_train_class_esem)\n",
        "y_pred_6 = clf6.predict(X_test_class_esem)\n",
        "score6 = accuracy_score(y_test_class_esem, y_pred_6)\n",
        "ada_scores['ESEM Class'] = score6\n",
        "\n",
        "clf6.fit(X_train_unified_new, y_train_unified_new)\n",
        "y_pred_6 = clf6.predict(X_test_unified_new)\n",
        "score6 = accuracy_score(y_test_unified_new, y_pred_6)\n",
        "ada_scores['New Unified Class'] = score6\n",
        "\n",
        "print(\"\\n\".join(\"{!r}: {!r},\".format(k, v) for k, v in ada_scores.items()))"
      ]
    },
    {
      "cell_type": "markdown",
      "metadata": {
        "id": "r8n3OWTBIZVW"
      },
      "source": [
        "## XGBoost"
      ]
    },
    {
      "cell_type": "code",
      "execution_count": null,
      "metadata": {
        "colab": {
          "background_save": true,
          "base_uri": "https://localhost:8080/"
        },
        "id": "jVYypIXSZM8r",
        "outputId": "1fa48ee0-0487-4fd0-caba-1aa1ea5162b4"
      },
      "outputs": [
        {
          "name": "stdout",
          "output_type": "stream",
          "text": [
            "'BugPrediction Class': 0.864045864045864,\n",
            "'GitHub Class': 0.864045864045864,\n",
            "'PROMISE Class': 0.6985313063643391,\n",
            "'Unified Class': 0.8259554808903822,\n",
            "'Butcatcher File': 0.8509532062391681,\n",
            "'GitHub File': 0.8755544603252834,\n",
            "'Eclipse File': 0.695383150880533,\n",
            "'Unified File': 0.7649049012435991,\n",
            "'ESEM Class': 0.9831801947556397,\n",
            "'New Unified Class': 0.923448939838345,\n"
          ]
        }
      ],
      "source": [
        "xgb_scores = {}\n",
        "\n",
        "clf7 = xgb.XGBClassifier()\n",
        "\n",
        "clf7.fit(X_train_class_bp, y_train_class_bp)\n",
        "y_pred_7 = clf7.predict(X_test_class_bp)\n",
        "score7 = accuracy_score(y_test_class_bp, y_pred_7)\n",
        "xgb_scores['BugPrediction Class'] = score7\n",
        "\n",
        "clf7.fit(X_train_class_gh, y_train_class_gh)\n",
        "y_pred_7 = clf7.predict(X_test_class_gh)\n",
        "score6 = accuracy_score(y_test_class_gh, y_pred_7)\n",
        "xgb_scores['GitHub Class'] = score7\n",
        "\n",
        "clf7.fit(X_train_class_pr, y_train_class_pr)\n",
        "y_pred_7 = clf7.predict(X_test_class_pr)\n",
        "score7 = accuracy_score(y_test_class_pr, y_pred_7)\n",
        "xgb_scores['PROMISE Class'] = score7\n",
        "\n",
        "clf7.fit(X_train_class_unified, y_train_class_unified)\n",
        "y_pred_7 = clf7.predict(X_test_class_unified)\n",
        "score7 = accuracy_score(y_test_class_unified, y_pred_7)\n",
        "xgb_scores['Unified Class'] = score7\n",
        "\n",
        "clf7.fit(X_train_file_bc, y_train_file_bc)\n",
        "y_pred_7 = clf7.predict(X_test_file_bc)\n",
        "score7 = accuracy_score(y_test_file_bc, y_pred_7)\n",
        "xgb_scores['Butcatcher File'] = score7\n",
        "\n",
        "clf7.fit(X_train_file_gh, y_train_file_gh)\n",
        "y_pred_7 = clf7.predict(X_test_file_gh)\n",
        "score7 = accuracy_score(y_test_file_gh, y_pred_7)\n",
        "xgb_scores['GitHub File'] = score7\n",
        "\n",
        "clf7.fit(X_train_file_ec, y_train_file_ec)\n",
        "y_pred_7 = clf7.predict(X_test_file_ec)\n",
        "score7 = accuracy_score(y_test_file_ec, y_pred_7)\n",
        "xgb_scores['Eclipse File'] = score7\n",
        "\n",
        "clf7.fit(X_train_file_unified, y_train_file_unified)\n",
        "y_pred_7 = clf7.predict(X_test_file_unified)\n",
        "score7 = accuracy_score(y_test_file_unified, y_pred_7)\n",
        "xgb_scores['Unified File'] = score7\n",
        "\n",
        "clf7.fit(X_train_class_esem, y_train_class_esem)\n",
        "y_pred_7 = clf7.predict(X_test_class_esem)\n",
        "score7 = accuracy_score(y_test_class_esem, y_pred_7)\n",
        "xgb_scores['ESEM Class'] = score7\n",
        "\n",
        "clf7.fit(X_train_unified_new, y_train_unified_new)\n",
        "y_pred_7 = clf7.predict(X_test_unified_new)\n",
        "score7 = accuracy_score(y_test_unified_new, y_pred_7)\n",
        "xgb_scores['New Unified Class'] = score7\n",
        "\n",
        "print(\"\\n\".join(\"{!r}: {!r},\".format(k, v) for k, v in xgb_scores.items()))"
      ]
    },
    {
      "cell_type": "markdown",
      "source": [
        "## Score Heatmap"
      ],
      "metadata": {
        "id": "xlqVMlmV39VF"
      }
    },
    {
      "cell_type": "code",
      "execution_count": null,
      "metadata": {
        "colab": {
          "base_uri": "https://localhost:8080/"
        },
        "id": "3Pax51SpOPec",
        "outputId": "301f9bf5-066b-4f04-a8e8-866bade0dd97"
      },
      "outputs": [
        {
          "output_type": "execute_result",
          "data": {
            "text/plain": [
              "[{'BugPrediction Class': 0.8034398034398035,\n",
              "  'Butcatcher File': 0.5667244367417678,\n",
              "  'ESEM Class': 0.926768216368021,\n",
              "  'Eclipse File': 0.6303347612248136,\n",
              "  'GitHub Class': 0.8008524397413286,\n",
              "  'GitHub File': 0.7543124691966486,\n",
              "  'New Unified Class': 0.880840964556792,\n",
              "  'PROMISE Class': 0.4305591342437516,\n",
              "  'Unified Class': 0.6901301973960521,\n",
              "  'Unified File': 0.7262253108997806},\n",
              " {'BugPrediction Class': 0.8452088452088452,\n",
              "  'Butcatcher File': 0.5008665511265165,\n",
              "  'ESEM Class': 0.9808296956561555,\n",
              "  'Eclipse File': 0.5475170553704585,\n",
              "  'GitHub Class': 0.35464432686654906,\n",
              "  'GitHub File': 0.3992114342040414,\n",
              "  'New Unified Class': 0.6113337662046885,\n",
              "  'PROMISE Class': 0.48441123421798504,\n",
              "  'Unified Class': 0.49895002099958,\n",
              "  'Unified File': 0.6040599853694221},\n",
              " {'BugPrediction Class': 0.8493038493038493,\n",
              "  'Butcatcher File': 0.7209705372616985,\n",
              "  'ESEM Class': 0.9807381177691626,\n",
              "  'Eclipse File': 0.6931619863557036,\n",
              "  'GitHub Class': 0.9104938271604939,\n",
              "  'GitHub File': 0.8674223755544603,\n",
              "  'New Unified Class': 0.9096343729709155,\n",
              "  'PROMISE Class': 0.6397835609379026,\n",
              "  'Unified Class': 0.8119277614447711,\n",
              "  'Unified File': 0.7553950256035113},\n",
              " {'BugPrediction Class': 0.8574938574938575,\n",
              "  'Butcatcher File': 0.49220103986135183,\n",
              "  'ESEM Class': 0.9799139167862266,\n",
              "  'Eclipse File': 0.6909408218308742,\n",
              "  'GitHub Class': 0.9163727219282775,\n",
              "  'GitHub File': 0.8368654509610646,\n",
              "  'New Unified Class': 0.9153214069811701,\n",
              "  'PROMISE Class': 0.3104869878897191,\n",
              "  'Unified Class': 0.7830323393532129,\n",
              "  'Unified File': 0.7283284564740308},\n",
              " {'BugPrediction Class': 0.8607698607698607,\n",
              "  'Butcatcher File': 0.7521663778162911,\n",
              "  'ESEM Class': 0.9808907475808175,\n",
              "  'Eclipse File': 0.6987148976677773,\n",
              "  'GitHub Class': 0.9168136390358612,\n",
              "  'GitHub File': 0.8718580581567275,\n",
              "  'New Unified Class': 0.9221951055683676,\n",
              "  'PROMISE Class': 0.6459675341406854,\n",
              "  'Unified Class': 0.8172196556068878,\n",
              "  'Unified File': 0.7628017556693489},\n",
              " {'BugPrediction Class': 0.8542178542178542,\n",
              "  'Butcatcher File': 0.8318890814558059,\n",
              "  'ESEM Class': 0.9814096889404439,\n",
              "  'Eclipse File': 0.6652387751864192,\n",
              "  'GitHub Class': 0.9279835390946503,\n",
              "  'GitHub File': 0.8718580581567275,\n",
              "  'New Unified Class': 0.9162617826836531,\n",
              "  'PROMISE Class': 0.668642102550889,\n",
              "  'Unified Class': 0.8362872742545149,\n",
              "  'Unified File': 0.763807607900512},\n",
              " {'BugPrediction Class': 0.8517608517608518,\n",
              "  'Butcatcher File': 0.7244367417677643,\n",
              "  'ESEM Class': 0.9798833908238958,\n",
              "  'Eclipse File': 0.6987148976677773,\n",
              "  'GitHub Class': 0.9168136390358612,\n",
              "  'GitHub File': 0.8716116313454904,\n",
              "  'New Unified Class': 0.9221055459776549,\n",
              "  'PROMISE Class': 0.6410718886884823,\n",
              "  'Unified Class': 0.8170516589668206,\n",
              "  'Unified File': 0.7624359912216533},\n",
              " {'BugPrediction Class': 0.8615888615888616,\n",
              "  'Butcatcher File': 0.8405545927209706,\n",
              "  'ESEM Class': 0.9807686437314936,\n",
              "  'Eclipse File': 0.7020466444550214,\n",
              "  'GitHub Class': 0.8615888615888616,\n",
              "  'GitHub File': 0.8721044849679646,\n",
              "  'New Unified Class': 0.9232698206569196,\n",
              "  'PROMISE Class': 0.7021386240659624,\n",
              "  'Unified Class': 0.8312473750524989,\n",
              "  'Unified File': 0.7635332845647403}]"
            ]
          },
          "metadata": {},
          "execution_count": 22
        }
      ],
      "source": [
        "combined_score = [gnb_scores, mnb_scores, lr_scores, sgd_scores, dt_scores, rf_scores, ada_scores, xgb_scores]\n",
        "combined_score"
      ]
    },
    {
      "cell_type": "code",
      "execution_count": null,
      "metadata": {
        "colab": {
          "base_uri": "https://localhost:8080/"
        },
        "id": "gy_1J_0MUWlb",
        "outputId": "e27331e9-a868-4171-8e08-29fdac4013f8"
      },
      "outputs": [
        {
          "output_type": "execute_result",
          "data": {
            "text/plain": [
              "array([[0.8034398 , 0.84520885, 0.84930385, 0.85749386, 0.86076986,\n",
              "        0.85421785, 0.85176085, 0.86158886],\n",
              "       [0.80085244, 0.35464433, 0.91049383, 0.91637272, 0.91681364,\n",
              "        0.92798354, 0.91681364, 0.86158886],\n",
              "       [0.43055913, 0.48441123, 0.63978356, 0.31048699, 0.64596753,\n",
              "        0.6686421 , 0.64107189, 0.70213862],\n",
              "       [0.6901302 , 0.49895002, 0.81192776, 0.78303234, 0.81721966,\n",
              "        0.83628727, 0.81705166, 0.83124738],\n",
              "       [0.56672444, 0.50086655, 0.72097054, 0.49220104, 0.75216638,\n",
              "        0.83188908, 0.72443674, 0.84055459],\n",
              "       [0.75431247, 0.39921143, 0.86742238, 0.83686545, 0.87185806,\n",
              "        0.87185806, 0.87161163, 0.87210448],\n",
              "       [0.63033476, 0.54751706, 0.69316199, 0.69094082, 0.6987149 ,\n",
              "        0.66523878, 0.6987149 , 0.70204664],\n",
              "       [0.72622531, 0.60405999, 0.75539503, 0.72832846, 0.76280176,\n",
              "        0.76380761, 0.76243599, 0.76353328],\n",
              "       [0.92676822, 0.9808297 , 0.98073812, 0.97991392, 0.98089075,\n",
              "        0.98140969, 0.97988339, 0.98076864],\n",
              "       [0.88084096, 0.61133377, 0.90963437, 0.91532141, 0.92219511,\n",
              "        0.91626178, 0.92210555, 0.92326982]])"
            ]
          },
          "metadata": {},
          "execution_count": 30
        }
      ],
      "source": [
        "scores = np.zeros((10,8))\n",
        "row = -1\n",
        "col = -1\n",
        "for i in combined_score:\n",
        "  col = col + 1\n",
        "  row = -1\n",
        "  for key in i:\n",
        "    row = row + 1\n",
        "    scores[row][col] = i[key]\n",
        "scores"
      ]
    },
    {
      "cell_type": "code",
      "source": [
        "import seaborn as sns; sns.set_theme()\n",
        "y_axis_labels = ['BugPrediction Class','GitHub Class','PROMISE Class','Unified Class','Butcatcher File','GitHub File','Eclipse File','Unified File','ESEM Class','New Unified Class'] # labels for x-axis\n",
        "x_axis_labels = ['Naive Bayes', 'Multinomial Naive Bayes', 'Logistic Regression', 'Stochastic GD', 'Decision Tree', 'Random Forest', 'Ada Boost', 'XG Boost'] # labels for y-axis\n",
        "sns.set(rc = {'figure.figsize':(15,8)})\n",
        "sns.heatmap(scores, xticklabels=x_axis_labels, yticklabels=y_axis_labels, cmap=\"Blues\", vmin=0.5, vmax=1)\n"
      ],
      "metadata": {
        "colab": {
          "base_uri": "https://localhost:8080/",
          "height": 634
        },
        "id": "CitvKR6WgKC_",
        "outputId": "6d731ecb-ef44-4a52-b84b-1ca7ff1a0a51"
      },
      "execution_count": null,
      "outputs": [
        {
          "output_type": "execute_result",
          "data": {
            "text/plain": [
              "<matplotlib.axes._subplots.AxesSubplot at 0x7f6f92a6a690>"
            ]
          },
          "metadata": {},
          "execution_count": 37
        },
        {
          "output_type": "display_data",
          "data": {
            "text/plain": [
              "<Figure size 1080x576 with 2 Axes>"
            ],
            "image/png": "[encoded data removed]"
          },
          "metadata": {}
        }
      ]
    }
  ],
  "metadata": {
    "colab": {
      "collapsed_sections": [],
      "name": "project_combined.ipynb",
      "provenance": []
    },
    "kernelspec": {
      "display_name": "Python 3",
      "name": "python3"
    },
    "language_info": {
      "name": "python"
    }
  },
  "nbformat": 4,
  "nbformat_minor": 0
}